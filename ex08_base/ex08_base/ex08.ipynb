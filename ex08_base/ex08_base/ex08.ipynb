{
 "cells": [
  {
   "cell_type": "markdown",
   "metadata": {},
   "source": [
    "# <center> <img src=\"figs/LogoUFSCar.jpg\" alt=\"Logo UFScar\" width=\"110\" align=\"left\"/>  <br/> <center>Universidade Federal de São Carlos (UFSCar)<br/><font size=\"4\"> Departamento de Computação, campus Sorocaba</center></font>\n",
    "</p>\n",
    "\n",
    "<br/>\n",
    "<font size=\"4\"><center><b>Disciplina: Aprendizado de Máquina</b></center></font>\n",
    "  \n",
    "<font size=\"3\"><center>Prof. Dr. Tiago A. Almeida</center></font>\n",
    "\n",
    "<br/>\n",
    "<br/>\n",
    "\n",
    "<center><i><b>\n",
    "Atenção: não são autorizadas cópias, divulgações ou qualquer tipo de uso deste material sem o consentimento prévio dos autores.\n",
    "</center></i></b>"
   ]
  },
  {
   "cell_type": "markdown",
   "metadata": {},
   "source": [
    "# <center>Exercício - Máquinas de Vetores de Suporte</center>\n",
    "\n",
    "Introdução\n",
    "----------\n",
    "Neste exercício, iremos usar o método máquinas de vetores de suporte (SVM) com vários exemplos em 2D. Os experimentos conduzidos neste exercício foram realizados com o intuito de ajudar a entender como o SVM funciona e como empregar uma função de kernel radial.\n",
    "\n"
   ]
  },
  {
   "cell_type": "markdown",
   "metadata": {},
   "source": [
    "## Parte 1: Visualizando as amostras da base de dados 1\n",
    "\n",
    "O primeiro exemplo é baseado em uma base de dados cujas classes podem ser separadas usando um classificador linear. "
   ]
  },
  {
   "cell_type": "markdown",
   "metadata": {},
   "source": [
    "Primeiro, vamos carregar os dados do arquivo."
   ]
  },
  {
   "cell_type": "code",
   "execution_count": null,
   "metadata": {},
   "outputs": [],
   "source": [
    "# -*- coding: utf-8 -*-\n",
    "\n",
    "import numpy as np #importa a biblioteca usada para trabalhar com vetores e matrizes\n",
    "import pandas as pd #importa a biblioteca usada para trabalhar com dataframes\n",
    "\n",
    "#importa o arquivo e guarda em um dataframe do Pandas\n",
    "df_dataset = pd.read_csv( 'dados/data1.csv', sep=',', index_col=None, header=None)\n",
    "\n",
    "print('Dados carregados com sucesso!')"
   ]
  },
  {
   "cell_type": "markdown",
   "metadata": {},
   "source": [
    "Agora, vamos dar uma olhada nas 5 primeiras amostras da base de dados."
   ]
  },
  {
   "cell_type": "code",
   "execution_count": null,
   "metadata": {},
   "outputs": [],
   "source": [
    "#vamos usar a função display para imprimir o dataframe\n",
    "display(df_dataset.head(n=6))"
   ]
  },
  {
   "cell_type": "markdown",
   "metadata": {},
   "source": [
    "Vamos guardar os dados dentro de uma matriz e as classes dentro de um vetor."
   ]
  },
  {
   "cell_type": "code",
   "execution_count": null,
   "metadata": {},
   "outputs": [],
   "source": [
    "#pega os valores das n-1 primeiras colunas e guarda em uma matrix X\n",
    "X = df_dataset.iloc[:, 0:-1].values \n",
    "\n",
    "#pega os valores da última coluna e guarda em um vetor Y\n",
    "Y = df_dataset.iloc[:, -1].values \n",
    "\n",
    "#imprime as 5 primeiras linhas da matriz X\n",
    "display('X:', X[0:5,:])\n",
    "\n",
    "#imprime os 5 primeiros valores de Y\n",
    "print('Y:', Y[0:5])"
   ]
  },
  {
   "cell_type": "markdown",
   "metadata": {},
   "source": [
    "Agora, vamos criar uma função para plotar os dados."
   ]
  },
  {
   "cell_type": "code",
   "execution_count": null,
   "metadata": {},
   "outputs": [],
   "source": [
    "#importa a biblioteca matplotlib\n",
    "import matplotlib.pyplot as plt\n",
    "\n",
    "#função para plotar os dados\n",
    "def visualizarDados(X,Y):\n",
    "    \"\"\"\n",
    "    Função usada para plotar os dados\n",
    "    \"\"\"\n",
    "    \n",
    "    #define o tamanho da figura \n",
    "    plt.figure(figsize=(10,8))\n",
    "    \n",
    "    #plota os dados da classe 0\n",
    "    plt.scatter( X[Y==0,0], X[Y==0,1], label='Classe 1', color='blue', s=50, edgecolors='k') \n",
    "    \n",
    "    #plota os dados da classe 1\n",
    "    plt.scatter( X[Y==1,0], X[Y==1,1], label='Classe 0', color='red', s=50, edgecolors='k') \n",
    "        \n",
    "    #plota a legenda\n",
    "    plt.legend()\n",
    "    \n",
    "#chama a função que plota os dados   \n",
    "visualizarDados(X,Y)\n",
    "plt.show()"
   ]
  },
  {
   "cell_type": "markdown",
   "metadata": {},
   "source": [
    "## Parte 2: Treinando um SVM com kernel linear\n",
    "\n",
    "Usando o código a seguir, iremos treinar um classificador SVM com kernel linear. Para isso, iremos empregar a biblioteca LIBSVM. Essa biblioteca é escrita em C++, mas pode também ser usada no Python.\n",
    "\n",
    "Existem várias formas de instalar e usar a biblioteca LIBSVM:\n",
    " - ela pode ser baixada em https://www.csie.ntu.edu.tw/~cjlin/libsvm/\n",
    " - ela pode ser instalada no Anaconda por meio dos seguintes comandos:\n",
    "     - `conda install -c conda-forge libsvm`\n",
    "     - `conda install -c conda-forge/label/cf201901 libsvm`\n",
    " - ela pode ser instalada no Linux através do comando:\n",
    "     - `sudo apt-get install python-libsvm`\n",
    "     \n",
    "No diretório deste exercício, já foram colocados três arquivos necessários para o funcionamento da LIBSVM no python: *svmutil.py*, *svm.py*, *commonutil.py*. Esses arquivos são os mesmos disponibilizados no site da biblioteca LIBSVM. \n",
    "\n",
    "Para informações sobre como usar as funções e parâmetros da LIBSVM no python, acesse: https://github.com/cjlin1/libsvm/tree/master/python.\n",
    "\n",
    "Neste primeiro exemplo, vamos usar um valor de custo igual a 1.0. Para que o código abaixo funcione, é necessário que você instale a biblioteca LIBSVM usando umas das formas de instalação apresentadas acima."
   ]
  },
  {
   "cell_type": "code",
   "execution_count": null,
   "metadata": {},
   "outputs": [],
   "source": [
    "import svmutil\n",
    "from svmutil import svm_read_problem\n",
    "from svmutil import svm_problem\n",
    "from svmutil import svm_parameter\n",
    "from svmutil import svm_train\n",
    "from svmutil import svm_predict\n",
    "from svmutil import svm_save_model\n",
    "\n",
    "#treina o classificador\n",
    "custo = 1.0\n",
    "kernel = 0 #seta que o kernel será linear (ausência de kernel)\n",
    "model = svm_train(Y, X, '-c %f -t %d' %(custo, kernel))\n",
    "\n",
    "print(model)"
   ]
  },
  {
   "cell_type": "markdown",
   "metadata": {},
   "source": [
    "Agora, vamos plotar o limite de decisão gerado pelo SVM."
   ]
  },
  {
   "cell_type": "code",
   "execution_count": null,
   "metadata": {
    "scrolled": true
   },
   "outputs": [],
   "source": [
    "#função para plotar o limite de decisão\n",
    "def plota_limite_decisao(model, X, Y):\n",
    "\n",
    "    fig = plt.figure(figsize=(10,8))\n",
    "    \n",
    "    ax = plt.gca()\n",
    "        \n",
    "    x = X[:, 0]\n",
    "    y = X[:, 1]\n",
    "    \n",
    "    x_min, x_max = x.min() - 1, x.max() + 1\n",
    "    y_min, y_max = y.min() - 1, y.max() + 1\n",
    "    xx, yy = np.meshgrid(np.arange(x_min, x_max, 0.02),np.arange(y_min, y_max, 0.02))\n",
    "    \n",
    "    Z, p_acc, p_val = svm_predict([], np.c_[xx.ravel(), yy.ravel()], model, '-q')\n",
    "    Z = np.array(Z)\n",
    "    Z = Z.reshape(xx.shape)\n",
    "    out = ax.contourf(xx, yy, Z, cmap=plt.cm.coolwarm, alpha=0.8)\n",
    "\n",
    "    ax.set_xlim(x.min()-0.1, x.max()+0.1)\n",
    "    ax.set_ylim(y.min()-0.1, y.max()+0.1)\n",
    "    ax.set_xticks(())\n",
    "    ax.set_yticks(())\n",
    "\n",
    "    #plota os dados da classe 0\n",
    "    plt.scatter( X[Y==0,0], X[Y==0,1], label='Classe 1', color='blue', s=50, edgecolors='k') \n",
    "    \n",
    "    #plota os dados da classe 1\n",
    "    plt.scatter( X[Y==1,0], X[Y==1,1], label='Classe 0', color='red', s=50, edgecolors='k') \n",
    "\n",
    "    #insere a legenda\n",
    "    plt.legend()\n",
    "\n",
    "    \n",
    "#plota os dados de treinamento\n",
    "plota_limite_decisao(model, X, Y)\n",
    "plt.show()\n"
   ]
  },
  {
   "cell_type": "markdown",
   "metadata": {},
   "source": [
    "O gráfico acima apresenta o limite de decisão criado pelo SVM com custo igual a 1. Agora, vamos gerar outro modelo, mas usando custo igual a 100."
   ]
  },
  {
   "cell_type": "code",
   "execution_count": null,
   "metadata": {},
   "outputs": [],
   "source": [
    "### treina o classificador ###\n",
    "custo = 100.0\n",
    "kernel = 0 # kernel linear\n",
    "model = svm_train(Y, X, '-c %f -t %d' %(custo, kernel))\n",
    "\n",
    "#plota o limite de decisão\n",
    "plota_limite_decisao(model, X, Y)"
   ]
  },
  {
   "cell_type": "markdown",
   "metadata": {},
   "source": [
    "Conforme pode ser observado nos exemplos acima, quando usamos valores altos para o parâmetro de custo, o SVM tenta classificar todos os exemplos de treinameto corretamente.\n",
    "\n",
    "Antes de ir para a próxima etapa, você pode testar outros valores de custo para o SVM e verificar como isso afeta o limite de decisão. \n",
    "\n",
    "## Parte 3: Treinando o SVM com função de kernel radial\n",
    "\n",
    "Antes de implementar o SVM com função de kernel radial, vamos importar e visualizar a segunda base de dados."
   ]
  },
  {
   "cell_type": "code",
   "execution_count": null,
   "metadata": {
    "scrolled": true
   },
   "outputs": [],
   "source": [
    "#importa o arquivo e guarda em um dataframe do Pandas\n",
    "df_dataset2 = pd.read_csv( 'dados/data2.csv', sep=',', index_col=None, header=None)\n",
    "\n",
    "#pega os valores das n-1 primeiras colunas e guarda em uma matrix X\n",
    "X2 = df_dataset2.iloc[:, 0:-1].values \n",
    "\n",
    "#pega os valores da última coluna e guarda em um vetor Y\n",
    "Y2 = df_dataset2.iloc[:, -1].values \n",
    "\n",
    "#imprime as 5 primeiras linhas da matriz X\n",
    "display('X:', X2[0:5,:])\n",
    "\n",
    "#imprime os 5 primeiros valores de Y\n",
    "print('Y:', Y2[0:5])\n",
    "\n",
    "#plota os dados de treinamento\n",
    "visualizarDados(X2,Y2)\n",
    "plt.show()"
   ]
  },
  {
   "cell_type": "markdown",
   "metadata": {},
   "source": [
    "Agora, vamos treinar o SVM com as amostras dessa segunda base de dados. Dessa vez, vamos usar o kernel radial."
   ]
  },
  {
   "cell_type": "code",
   "execution_count": null,
   "metadata": {
    "scrolled": true
   },
   "outputs": [],
   "source": [
    "### treina o classificador com custo=1, gamma=2 e kernel radial ###\n",
    "custo = 1.0\n",
    "gamma = 100\n",
    "kernel = 2 # escolhe o kernel radial\n",
    "model = svm_train(Y2, X2, '-c %f -t %d -g %f' %(custo, kernel, gamma))\n",
    "\n",
    "#plota o limite de decisão\n",
    "plota_limite_decisao(model, X2, Y2)"
   ]
  },
  {
   "cell_type": "markdown",
   "metadata": {},
   "source": [
    "Você pode testar outros valores para os parâmetros `custo` e `gamma`. Veja como a escolha desses parâmetros afeta a superfície de decisão criada pelo SVM."
   ]
  },
  {
   "cell_type": "markdown",
   "metadata": {},
   "source": [
    "## Parte 4: Experimentos com a base de dados 3\n",
    "\n",
    "Nesta parte do exercício, faremos experimentos com a terceira base de dados. Essa base possui um conjunto de validação que usaremos para selecionar o custo e o parâmetro gamma do SVM com kernel radial. \n",
    "\n",
    "Primeiro, vamos carregar e visualizar os dados."
   ]
  },
  {
   "cell_type": "code",
   "execution_count": null,
   "metadata": {},
   "outputs": [],
   "source": [
    "#importa o arquivo e guarda em um dataframe do Pandas\n",
    "df_dataset3 = pd.read_csv( 'dados/data3.csv', sep=',', index_col=None, header=None)\n",
    "df_dataset3_val = pd.read_csv( 'dados/data3_val.csv', sep=',', index_col=None, header=None)\n",
    "\n",
    "print('Dados carregados com sucesso!')\n",
    "\n",
    "#pega os valores das n-1 primeiras colunas e guarda em uma matrix X\n",
    "X3 = df_dataset3.iloc[:, 0:-1].values \n",
    "X3val = df_dataset3_val.iloc[:, 0:-1].values \n",
    "\n",
    "#pega os valores da última coluna e guarda em um vetor Y\n",
    "Y3 = df_dataset3.iloc[:, -1].values \n",
    "Y3val = df_dataset3_val.iloc[:, -1].values \n",
    "\n",
    "#imprime as 5 primeiras linhas da matriz X\n",
    "display('X:', X3[0:5,:])\n",
    "display('Xval:', X3val[0:5,:])\n",
    "\n",
    "#imprime os 5 primeiros valores de Y\n",
    "print('Y:', Y[0:5])\n",
    "print('Yval:', Y3val[0:5])\n",
    "\n",
    "#plota os dados de treinamento\n",
    "visualizarDados(X3,Y3)\n",
    "plt.show()"
   ]
  },
  {
   "cell_type": "markdown",
   "metadata": {},
   "source": [
    "Agora, você deverá usar o conjunto de validação (*X3val*,*Y3val*) para encontrar os melhores valores para os parâmetros $C$ (parâmetro de regularização do SVM) e $\\gamma$ (parâmetro do kernel RBF). Você deverá completar a função *gridSearch* para fazer a busca dos melhores valores para esses parâmetros. É recomendável que sejam usados valores em escala multiplicativa, como $0.01, 0.03, 0.1, 0.3, 1, 3, 10, 30$. Você deve testar todos os pares de valores para $C$ e $\\gamma$ dentro do intervalo escolhido (*e.g.*, $C = 0.3$ e $\\gamma$ $ = 0.1$). Por exemplo, se você testar cada um dos oito valores recomendados para $C$ e $\\gamma$, você treinará e avaliará um total de $8^2 = 64$ diferentes modelos. Depois de determinar a melhor combinação para $C$ e $\\gamma$, você deverá usar tais valores para inicializar o modelo que será treinado com o conjunto $X3, Y3$."
   ]
  },
  {
   "cell_type": "code",
   "execution_count": null,
   "metadata": {},
   "outputs": [],
   "source": [
    "def gridSearch(X, Y, Xval, Yval):\n",
    "    \"\"\"\n",
    "    Retorna o melhor valor para os parâmetros custo e gamma do SVM radial.\n",
    "    \n",
    "    Parâmetros\n",
    "    ----------\n",
    "    X : matriz com os dados de treinamento\n",
    "    \n",
    "    y : vetor com classes de cada dados de treinamento\n",
    "    \n",
    "    Xval : matriz com os dados de validação\n",
    "    \n",
    "    yval : vetor com as classes dos dados de validação\n",
    "    \n",
    "    Retorno\n",
    "    -------\n",
    "    custo, gamma : os melhores valores para os parêmetros custo e gamma.\n",
    "    \n",
    "     \"\"\"\n",
    "    \n",
    "    #inicializa as variáveis que deverão ser retornadas pela função\n",
    "    custo = 1000\n",
    "    gamma = 1000\n",
    "    \n",
    "    ########################## COMPLETE O CÓDIGO AQUI  ########################\n",
    "    # Complete esta função para retornar os melhores valores de C e gamma com base\n",
    "    # nos dados do conjunto de validação.\n",
    "    # Você pode usar a função svm_predict() para fazer a predição das classes das amostras do\n",
    "    # conjunto de validação. \n",
    "    #\n",
    "    # Importante\n",
    "    # ----\n",
    "    # Você pode calcular a acurácia usando\n",
    "    # \n",
    "    #    acuracia = np.sum(classes==Yval)/len(Yval) \n",
    "   \n",
    "\n",
    "\n",
    "\n",
    "\n",
    "\n",
    "\n",
    "\n",
    "\n",
    "\n",
    "\n",
    "\n",
    "\n",
    "\n",
    "\n",
    "\n",
    "\n",
    "\n",
    "\n",
    "\n",
    "\n",
    "\n",
    "\n",
    "\n",
    "\n",
    "\n",
    "\n",
    "\n",
    "\n",
    "\n",
    "\n",
    "    ##########################################################################\n",
    "\n",
    "    return custo, gamma\n",
    "\n",
    "\n",
    "#chama a função que faz a busca em grade\n",
    "bestC, bestGamma = gridSearch(X3, Y3, X3val, Y3val)\n",
    "    \n",
    "print('Melhores parâmetros\\nC: %1.3f, gamma=%1.3f' %(bestC,bestGamma))"
   ]
  },
  {
   "cell_type": "markdown",
   "metadata": {},
   "source": [
    "Agora, vamos treinar o SVM usando os parâmetros encontrados na busca em grade e ver como ficará a superfície de decisão."
   ]
  },
  {
   "cell_type": "code",
   "execution_count": null,
   "metadata": {},
   "outputs": [],
   "source": [
    "### treina o classificador com o melhor custo e o melhor gamma encontrados ###\n",
    "kernel = 2 #kernel radial\n",
    "model = svm_train(Y3, X3, '-c %f -t %d -g %f -q' %(bestC, kernel, bestGamma))\n",
    "\n",
    "#plota a superfície de decisão\n",
    "plota_limite_decisao(model, X3, Y3)"
   ]
  },
  {
   "cell_type": "code",
   "execution_count": null,
   "metadata": {},
   "outputs": [],
   "source": []
  }
 ],
 "metadata": {
  "kernelspec": {
   "display_name": "Python 3",
   "language": "python",
   "name": "python3"
  },
  "language_info": {
   "codemirror_mode": {
    "name": "ipython",
    "version": 3
   },
   "file_extension": ".py",
   "mimetype": "text/x-python",
   "name": "python",
   "nbconvert_exporter": "python",
   "pygments_lexer": "ipython3",
   "version": "3.6.8"
  }
 },
 "nbformat": 4,
 "nbformat_minor": 2
}
